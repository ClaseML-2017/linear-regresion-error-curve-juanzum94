{
 "cells": [
  {
   "cell_type": "markdown",
   "metadata": {},
   "source": [
    "# Linear Regression and Error Curve"
   ]
  },
  {
   "cell_type": "markdown",
   "metadata": {},
   "source": [
    "Juan Abraham Zumaya Galvan 135611"
   ]
  },
  {
   "cell_type": "code",
   "execution_count": 2,
   "metadata": {
    "collapsed": true
   },
   "outputs": [],
   "source": [
    "import pandas as pd\n",
    "import matplotlib.pyplot as plt\n",
    "import numpy as np\n",
    "import csv\n",
    "from sklearn.model_selection import train_test_split\n",
    "from sklearn.linear_model import LinearRegression"
   ]
  },
  {
   "cell_type": "code",
   "execution_count": 5,
   "metadata": {},
   "outputs": [],
   "source": [
    "Location = r'C:\\Users\\hp\\Desktop\\learning_machine\\clases\\RegLin.csv' # Se obtiene la locazion del documento"
   ]
  },
  {
   "cell_type": "code",
   "execution_count": 6,
   "metadata": {
    "collapsed": true
   },
   "outputs": [],
   "source": [
    "df = pd.read_csv(Location)# Se leen los datos"
   ]
  },
  {
   "cell_type": "code",
   "execution_count": 7,
   "metadata": {},
   "outputs": [
    {
     "data": {
      "text/html": [
       "<div>\n",
       "<style>\n",
       "    .dataframe thead tr:only-child th {\n",
       "        text-align: right;\n",
       "    }\n",
       "\n",
       "    .dataframe thead th {\n",
       "        text-align: left;\n",
       "    }\n",
       "\n",
       "    .dataframe tbody tr th {\n",
       "        vertical-align: top;\n",
       "    }\n",
       "</style>\n",
       "<table border=\"1\" class=\"dataframe\">\n",
       "  <thead>\n",
       "    <tr style=\"text-align: right;\">\n",
       "      <th></th>\n",
       "      <th>X</th>\n",
       "      <th>Y</th>\n",
       "    </tr>\n",
       "  </thead>\n",
       "  <tbody>\n",
       "    <tr>\n",
       "      <th>count</th>\n",
       "      <td>1029.000000</td>\n",
       "      <td>1029.000000</td>\n",
       "    </tr>\n",
       "    <tr>\n",
       "      <th>mean</th>\n",
       "      <td>50.008111</td>\n",
       "      <td>32.893917</td>\n",
       "    </tr>\n",
       "    <tr>\n",
       "      <th>std</th>\n",
       "      <td>29.055066</td>\n",
       "      <td>18.083566</td>\n",
       "    </tr>\n",
       "    <tr>\n",
       "      <th>min</th>\n",
       "      <td>0.030369</td>\n",
       "      <td>-4.586608</td>\n",
       "    </tr>\n",
       "    <tr>\n",
       "      <th>25%</th>\n",
       "      <td>25.201087</td>\n",
       "      <td>17.583093</td>\n",
       "    </tr>\n",
       "    <tr>\n",
       "      <th>50%</th>\n",
       "      <td>50.884987</td>\n",
       "      <td>33.564129</td>\n",
       "    </tr>\n",
       "    <tr>\n",
       "      <th>75%</th>\n",
       "      <td>75.636823</td>\n",
       "      <td>48.339811</td>\n",
       "    </tr>\n",
       "    <tr>\n",
       "      <th>max</th>\n",
       "      <td>99.959580</td>\n",
       "      <td>71.762748</td>\n",
       "    </tr>\n",
       "  </tbody>\n",
       "</table>\n",
       "</div>"
      ],
      "text/plain": [
       "                 X            Y\n",
       "count  1029.000000  1029.000000\n",
       "mean     50.008111    32.893917\n",
       "std      29.055066    18.083566\n",
       "min       0.030369    -4.586608\n",
       "25%      25.201087    17.583093\n",
       "50%      50.884987    33.564129\n",
       "75%      75.636823    48.339811\n",
       "max      99.959580    71.762748"
      ]
     },
     "execution_count": 7,
     "metadata": {},
     "output_type": "execute_result"
    }
   ],
   "source": [
    "df.describe()"
   ]
  },
  {
   "cell_type": "code",
   "execution_count": 10,
   "metadata": {},
   "outputs": [],
   "source": [
    "X = df[df.columns[0:-1]]\n",
    "Y = df[df.columns[-1]]"
   ]
  },
  {
   "cell_type": "code",
   "execution_count": 11,
   "metadata": {
    "collapsed": true
   },
   "outputs": [],
   "source": [
    "X_train, X_test, Y_train, Y_test = train_test_split(X,Y, train_size=0.75) "
   ]
  },
  {
   "cell_type": "code",
   "execution_count": 12,
   "metadata": {},
   "outputs": [
    {
     "data": {
      "text/html": [
       "<div>\n",
       "<style>\n",
       "    .dataframe thead tr:only-child th {\n",
       "        text-align: right;\n",
       "    }\n",
       "\n",
       "    .dataframe thead th {\n",
       "        text-align: left;\n",
       "    }\n",
       "\n",
       "    .dataframe tbody tr th {\n",
       "        vertical-align: top;\n",
       "    }\n",
       "</style>\n",
       "<table border=\"1\" class=\"dataframe\">\n",
       "  <thead>\n",
       "    <tr style=\"text-align: right;\">\n",
       "      <th></th>\n",
       "      <th>X</th>\n",
       "    </tr>\n",
       "  </thead>\n",
       "  <tbody>\n",
       "    <tr>\n",
       "      <th>count</th>\n",
       "      <td>771.000000</td>\n",
       "    </tr>\n",
       "    <tr>\n",
       "      <th>mean</th>\n",
       "      <td>49.608757</td>\n",
       "    </tr>\n",
       "    <tr>\n",
       "      <th>std</th>\n",
       "      <td>28.332292</td>\n",
       "    </tr>\n",
       "    <tr>\n",
       "      <th>min</th>\n",
       "      <td>0.030369</td>\n",
       "    </tr>\n",
       "    <tr>\n",
       "      <th>25%</th>\n",
       "      <td>25.467128</td>\n",
       "    </tr>\n",
       "    <tr>\n",
       "      <th>50%</th>\n",
       "      <td>50.647232</td>\n",
       "    </tr>\n",
       "    <tr>\n",
       "      <th>75%</th>\n",
       "      <td>74.645502</td>\n",
       "    </tr>\n",
       "    <tr>\n",
       "      <th>max</th>\n",
       "      <td>99.365013</td>\n",
       "    </tr>\n",
       "  </tbody>\n",
       "</table>\n",
       "</div>"
      ],
      "text/plain": [
       "                X\n",
       "count  771.000000\n",
       "mean    49.608757\n",
       "std     28.332292\n",
       "min      0.030369\n",
       "25%     25.467128\n",
       "50%     50.647232\n",
       "75%     74.645502\n",
       "max     99.365013"
      ]
     },
     "execution_count": 12,
     "metadata": {},
     "output_type": "execute_result"
    }
   ],
   "source": [
    "X_train.describe()"
   ]
  },
  {
   "cell_type": "code",
   "execution_count": 25,
   "metadata": {},
   "outputs": [
    {
     "data": {
      "text/plain": [
       "<matplotlib.collections.PathCollection at 0x10c4b9b0>"
      ]
     },
     "execution_count": 25,
     "metadata": {},
     "output_type": "execute_result"
    }
   ],
   "source": [
    "plt.scatter(X_test, Y_test,  color='black')"
   ]
  },
  {
   "cell_type": "code",
   "execution_count": 26,
   "metadata": {},
   "outputs": [
    {
     "data": {
      "image/png": "[encoded data removed]",
      "text/plain": [
       "<matplotlib.figure.Figure at 0x10eadcd0>"
      ]
     },
     "metadata": {},
     "output_type": "display_data"
    }
   ],
   "source": [
    "plt.show()"
   ]
  },
  {
   "cell_type": "code",
   "execution_count": 27,
   "metadata": {
    "collapsed": true
   },
   "outputs": [],
   "source": [
    "from sklearn.linear_model import LinearRegression"
   ]
  },
  {
   "cell_type": "code",
   "execution_count": 28,
   "metadata": {},
   "outputs": [
    {
     "data": {
      "text/plain": [
       "LinearRegression(copy_X=True, fit_intercept=True, n_jobs=1, normalize=False)"
      ]
     },
     "execution_count": 28,
     "metadata": {},
     "output_type": "execute_result"
    }
   ],
   "source": [
    "reg = LinearRegression()\n",
    "reg.fit(X_train, Y_train)"
   ]
  },
  {
   "cell_type": "code",
   "execution_count": 29,
   "metadata": {},
   "outputs": [],
   "source": [
    "Y_prediccion = reg.predict(X_test)"
   ]
  },
  {
   "cell_type": "code",
   "execution_count": 33,
   "metadata": {},
   "outputs": [
    {
     "data": {
      "text/plain": [
       "<matplotlib.text.Text at 0x112fa450>"
      ]
     },
     "execution_count": 33,
     "metadata": {},
     "output_type": "execute_result"
    }
   ],
   "source": [
    "plt.scatter(X_test, Y_test,  color='green')\n",
    "plt.plot(X_test, Y_prediccion, color='red', linewidth=1)\n",
    "plt.title('X Vs Y (Test Set)')"
   ]
  },
  {
   "cell_type": "code",
   "execution_count": 34,
   "metadata": {},
   "outputs": [
    {
     "data": {
      "image/png": "[encoded data removed]",
      "text/plain": [
       "<matplotlib.figure.Figure at 0x112080b0>"
      ]
     },
     "metadata": {},
     "output_type": "display_data"
    }
   ],
   "source": [
    "plt.show()"
   ]
  },
  {
   "cell_type": "code",
   "execution_count": 37,
   "metadata": {},
   "outputs": [
    {
     "data": {
      "text/plain": [
       "<matplotlib.text.Text at 0x12bfe4f0>"
      ]
     },
     "execution_count": 37,
     "metadata": {},
     "output_type": "execute_result"
    }
   ],
   "source": [
    "plt.scatter(X_train, Y_train,  color='green')\n",
    "plt.plot(X_train, reg.predict(X_train), color='red', linewidth=1)\n",
    "plt.title('X Vs Y (Training Set)')"
   ]
  },
  {
   "cell_type": "code",
   "execution_count": 38,
   "metadata": {},
   "outputs": [
    {
     "data": {
      "image/png": "[encoded data removed]",
      "text/plain": [
       "<matplotlib.figure.Figure at 0x112cee10>"
      ]
     },
     "metadata": {},
     "output_type": "display_data"
    }
   ],
   "source": [
    "plt.show()"
   ]
  },
  {
   "cell_type": "code",
   "execution_count": 41,
   "metadata": {},
   "outputs": [
    {
     "name": "stdout",
     "output_type": "stream",
     "text": [
      "0.0726792694175\n",
      "2.62919409394\n",
      "[ 0.60654796]\n"
     ]
    }
   ],
   "source": [
    "print(np.mean(reg.predict(X_test) - Y_test) **2)## Error cuadratico de la prueba\n",
    "\n",
    "print(reg.intercept_)\n",
    "print(reg.coef_)"
   ]
  },
  {
   "cell_type": "code",
   "execution_count": 97,
   "metadata": {},
   "outputs": [],
   "source": [
    "w = np.linspace(-reg.intercept_*2, reg.intercept_ * 4, num=200)"
   ]
  },
  {
   "cell_type": "code",
   "execution_count": 98,
   "metadata": {},
   "outputs": [
    {
     "name": "stdout",
     "output_type": "stream",
     "text": [
      "[ -5.25838819  -5.179116    -5.09984382  -5.02057164  -4.94129945\n",
      "  -4.86202727  -4.78275509  -4.7034829   -4.62421072  -4.54493853\n",
      "  -4.46566635  -4.38639417  -4.30712198  -4.2278498   -4.14857762\n",
      "  -4.06930543  -3.99003325  -3.91076106  -3.83148888  -3.7522167\n",
      "  -3.67294451  -3.59367233  -3.51440015  -3.43512796  -3.35585578\n",
      "  -3.27658359  -3.19731141  -3.11803923  -3.03876704  -2.95949486\n",
      "  -2.88022268  -2.80095049  -2.72167831  -2.64240612  -2.56313394\n",
      "  -2.48386176  -2.40458957  -2.32531739  -2.24604521  -2.16677302\n",
      "  -2.08750084  -2.00822865  -1.92895647  -1.84968429  -1.7704121\n",
      "  -1.69113992  -1.61186774  -1.53259555  -1.45332337  -1.37405118\n",
      "  -1.294779    -1.21550682  -1.13623463  -1.05696245  -0.97769027\n",
      "  -0.89841808  -0.8191459   -0.73987371  -0.66060153  -0.58132935\n",
      "  -0.50205716  -0.42278498  -0.3435128   -0.26424061  -0.18496843\n",
      "  -0.10569624  -0.02642406   0.05284812   0.13212031   0.21139249\n",
      "   0.29066467   0.36993686   0.44920904   0.52848122   0.60775341\n",
      "   0.68702559   0.76629778   0.84556996   0.92484214   1.00411433\n",
      "   1.08338651   1.16265869   1.24193088   1.32120306   1.40047525\n",
      "   1.47974743   1.55901961   1.6382918    1.71756398   1.79683616\n",
      "   1.87610835   1.95538053   2.03465272   2.1139249    2.19319708\n",
      "   2.27246927   2.35174145   2.43101363   2.51028582   2.589558\n",
      "   2.66883019   2.74810237   2.82737455   2.90664674   2.98591892\n",
      "   3.0651911    3.14446329   3.22373547   3.30300766   3.38227984\n",
      "   3.46155202   3.54082421   3.62009639   3.69936857   3.77864076\n",
      "   3.85791294   3.93718513   4.01645731   4.09572949   4.17500168\n",
      "   4.25427386   4.33354604   4.41281823   4.49209041   4.5713626\n",
      "   4.65063478   4.72990696   4.80917915   4.88845133   4.96772351\n",
      "   5.0469957    5.12626788   5.20554007   5.28481225   5.36408443\n",
      "   5.44335662   5.5226288    5.60190098   5.68117317   5.76044535\n",
      "   5.83971754   5.91898972   5.9982619    6.07753409   6.15680627\n",
      "   6.23607845   6.31535064   6.39462282   6.47389501   6.55316719\n",
      "   6.63243937   6.71171156   6.79098374   6.87025592   6.94952811\n",
      "   7.02880029   7.10807248   7.18734466   7.26661684   7.34588903\n",
      "   7.42516121   7.50443339   7.58370558   7.66297776   7.74224994\n",
      "   7.82152213   7.90079431   7.9800665    8.05933868   8.13861086\n",
      "   8.21788305   8.29715523   8.37642741   8.4556996    8.53497178\n",
      "   8.61424397   8.69351615   8.77278833   8.85206052   8.9313327\n",
      "   9.01060488   9.08987707   9.16914925   9.24842144   9.32769362\n",
      "   9.4069658    9.48623799   9.56551017   9.64478235   9.72405454\n",
      "   9.80332672   9.88259891   9.96187109  10.04114327  10.12041546\n",
      "  10.19968764  10.27895982  10.35823201  10.43750419  10.51677638]\n"
     ]
    }
   ],
   "source": [
    "print(w)"
   ]
  },
  {
   "cell_type": "code",
   "execution_count": 99,
   "metadata": {},
   "outputs": [
    {
     "name": "stdout",
     "output_type": "stream",
     "text": [
      "[   0    1    2 ..., 1026 1027 1028]\n"
     ]
    }
   ],
   "source": [
    "m = reg.coef_[0]\n",
    "b = reg.intercept_\n",
    "indices = X.index.values\n",
    "print(indices)\n",
    "tam=len (indices)"
   ]
  },
  {
   "cell_type": "code",
   "execution_count": 107,
   "metadata": {},
   "outputs": [
    {
     "data": {
      "image/png": "[encoded data removed]",
      "text/plain": [
       "<matplotlib.figure.Figure at 0x1374aed0>"
      ]
     },
     "metadata": {},
     "output_type": "display_data"
    }
   ],
   "source": [
    "def Error(b, m, X,Y):\n",
    "    indices = Y.index.values\n",
    "    E = 0\n",
    "    for i in range(0, len(indices)):\n",
    "        index = indices[i]\n",
    "        x = X['X'][index]\n",
    "        y = Y[index]\n",
    "        E += (y - (m * x + b)) ** 2\n",
    "    return E / float(len(X))\n",
    "\n",
    "df = pd.DataFrame()\n",
    "\n",
    "for i in range(0, len(w)):\n",
    "    x = Error(w[i], m, X_train, Y_train)\n",
    "    df = df.append({'int': w[i], 'error': x}, ignore_index=True)\n",
    "    \n",
    "\n",
    "\n",
    "plt.scatter(df['int'], df['error'])\n",
    "plt.show()"
   ]
  },
  {
   "cell_type": "code",
   "execution_count": null,
   "metadata": {
    "collapsed": true
   },
   "outputs": [],
   "source": []
  },
  {
   "cell_type": "code",
   "execution_count": null,
   "metadata": {
    "collapsed": true
   },
   "outputs": [],
   "source": []
  }
 ],
 "metadata": {
  "kernelspec": {
   "display_name": "Python 2",
   "language": "python",
   "name": "python2"
  },
  "language_info": {
   "codemirror_mode": {
    "name": "ipython",
    "version": 2
   },
   "file_extension": ".py",
   "mimetype": "text/x-python",
   "name": "python",
   "nbconvert_exporter": "python",
   "pygments_lexer": "ipython2",
   "version": "2.7.13"
  }
 },
 "nbformat": 4,
 "nbformat_minor": 2
}
